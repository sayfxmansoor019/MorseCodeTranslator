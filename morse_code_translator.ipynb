{
  "nbformat": 4,
  "nbformat_minor": 0,
  "metadata": {
    "colab": {
      "provenance": []
    },
    "kernelspec": {
      "name": "python3",
      "display_name": "Python 3"
    },
    "language_info": {
      "name": "python"
    }
  },
  "cells": [
    {
      "cell_type": "code",
      "execution_count": 2,
      "metadata": {
        "colab": {
          "base_uri": "https://localhost:8080/"
        },
        "id": "vXtaLA2sF_ls",
        "outputId": "85c46e82-594b-419b-f28f-6cc161181939"
      },
      "outputs": [
        {
          "output_type": "stream",
          "name": "stdout",
          "text": [
            "Welcome to the Morse Code Translator!\n",
            "\n",
            "Select an option:\n",
            "1. Text to Morse Code\n",
            "2. Morse Code to Text\n",
            "3. Exit\n",
            "Enter your choice (1/2/3): 1\n",
            "Enter the text to translate to Morse code: Saif says Hi\n",
            "Morse code: ... .- .. ..-. / ... .- -.-- ... / .... ..\n",
            "\n",
            "Select an option:\n",
            "1. Text to Morse Code\n",
            "2. Morse Code to Text\n",
            "3. Exit\n",
            "Enter your choice (1/2/3): 3\n",
            "Exiting the Morse Code Translator. Goodbye!\n"
          ]
        }
      ],
      "source": [
        "morse_code_dict = {\n",
        "    'A': '.-', 'B': '-...', 'C': '-.-.', 'D': '-..', 'E': '.', 'F': '..-.', 'G': '--.', 'H': '....',\n",
        "    'I': '..', 'J': '.---', 'K': '-.-', 'L': '.-..', 'M': '--', 'N': '-.', 'O': '---', 'P': '.--.',\n",
        "    'Q': '--.-', 'R': '.-.', 'S': '...', 'T': '-', 'U': '..-', 'V': '...-', 'W': '.--', 'X': '-..-',\n",
        "    'Y': '-.--', 'Z': '--..',\n",
        "    '0': '-----', '1': '.----', '2': '..---', '3': '...--', '4': '....-', '5': '.....',\n",
        "    '6': '-....', '7': '--...', '8': '---..', '9': '----.',\n",
        "    '.': '.-.-.-', ',': '--..--', '?': '..--..', \"'\": '.----.', '!': '-.-.--', '/': '-..-.', '(': '-.--.',\n",
        "    ')': '-.--.-', '&': '.-...', ':': '---...', ';': '-.-.-.', '=': '-...-', '+': '.-.-.', '-': '-....-',\n",
        "    '_': '..--.-', '\"': '.-..-.', '$': '...-..-', '@': '.--.-.'\n",
        "}\n",
        "\n",
        "reverse_morse_code_dict = {v: k for k, v in morse_code_dict.items()}\n",
        "\n",
        "def text_to_morse(text):\n",
        "    morse_code = []\n",
        "    for char in text.upper():\n",
        "        if char == ' ':\n",
        "            morse_code.append('/')\n",
        "        elif char in morse_code_dict:\n",
        "            morse_code.append(morse_code_dict[char])\n",
        "        else:\n",
        "            morse_code.append('?')\n",
        "    return ' '.join(morse_code)\n",
        "\n",
        "def morse_to_text(morse_code):\n",
        "    text = []\n",
        "    for code in morse_code.split(' '):\n",
        "        if code == '/':\n",
        "            text.append(' ')\n",
        "        elif code in reverse_morse_code_dict:\n",
        "            text.append(reverse_morse_code_dict[code])\n",
        "        else:\n",
        "            text.append('?')\n",
        "    return ''.join(text)\n",
        "\n",
        "def main():\n",
        "    print(\"Welcome to the Morse Code Translator!\")\n",
        "\n",
        "    while True:\n",
        "        print(\"\\nSelect an option:\")\n",
        "        print(\"1. Text to Morse Code\")\n",
        "        print(\"2. Morse Code to Text\")\n",
        "        print(\"3. Exit\")\n",
        "        choice = input(\"Enter your choice (1/2/3): \")\n",
        "\n",
        "        if choice == '1':\n",
        "            text_input = input(\"Enter the text to translate to Morse code: \")\n",
        "            morse_output = text_to_morse(text_input)\n",
        "            print(f\"Morse code: {morse_output}\")\n",
        "\n",
        "        elif choice == '2':\n",
        "            morse_input = input(\"Enter the Morse code to translate to text: \")\n",
        "            text_output = morse_to_text(morse_input)\n",
        "            print(f\"Text: {text_output}\")\n",
        "\n",
        "        elif choice == '3':\n",
        "            print(\"Exiting the Morse Code Translator. Goodbye!\")\n",
        "            break\n",
        "\n",
        "        else:\n",
        "            print(\"Invalid choice. Please enter 1, 2, or 3.\")\n",
        "\n",
        "if __name__ == \"__main__\":\n",
        "    main()\n"
      ]
    },
    {
      "cell_type": "code",
      "source": [],
      "metadata": {
        "id": "2dG3cdgYGPR_"
      },
      "execution_count": 2,
      "outputs": []
    }
  ]
}